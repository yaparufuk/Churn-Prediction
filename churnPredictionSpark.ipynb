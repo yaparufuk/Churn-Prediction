{
 "cells": [
  {
   "cell_type": "markdown",
   "metadata": {
    "id": "YdU5QtFoenDk"
   },
   "source": [
    "# Big Data Machine Learning Classification with Spark"
   ]
  },
  {
   "cell_type": "markdown",
   "metadata": {
    "id": "Y5WYruOqfEVZ"
   },
   "source": [
    "## Churn Prediction"
   ]
  },
  {
   "cell_type": "markdown",
   "metadata": {
    "id": "LvxQWcC1SJna"
   },
   "source": [
    "In this projet data will be read by Spark and  logistic regression and Gbt Classifier will be utilized for predicting customer churn. Ultimately, optimal parameters will be determined for the GBT classifier."
   ]
  },
  {
   "cell_type": "markdown",
   "metadata": {},
   "source": [
    "<img src=\"churn.png\" alt=\"Description of the image\">"
   ]
  },
  {
   "cell_type": "code",
   "execution_count": null,
   "metadata": {
    "colab": {
     "base_uri": "https://localhost:8080/"
    },
    "id": "79ccd2r6QXL7",
    "outputId": "d6f70096-6076-406e-eaed-1494e6aceae1"
   },
   "outputs": [],
   "source": [
    "#pip install pyspark"
   ]
  },
  {
   "cell_type": "code",
   "execution_count": 4,
   "metadata": {
    "id": "ADH2vKUqQmkx"
   },
   "outputs": [],
   "source": [
    "\n",
    "from pyspark.sql import SparkSession\n",
    "from pyspark.ml.feature import VectorAssembler\n",
    "from pyspark.ml.classification import LogisticRegression\n",
    "from pyspark.ml.evaluation import BinaryClassificationEvaluator\n",
    "from pyspark.ml.classification import GBTClassifier\n",
    "\n",
    "\n",
    "# Intialize a saprk session\n",
    "spark = SparkSession.builder.appName(\"ChurnPrediction.\").getOrCreate()\n",
    "\n",
    "# Load dataset\n",
    "data = spark.read.csv(\"churn.csv\",header=True,inferSchema=True)\n",
    "\n"
   ]
  },
  {
   "cell_type": "code",
   "execution_count": 5,
   "metadata": {
    "colab": {
     "base_uri": "https://localhost:8080/"
    },
    "id": "GDDENy1WURNL",
    "outputId": "613c6fc7-5c82-400a-f468-866e6be0f8b7"
   },
   "outputs": [
    {
     "name": "stdout",
     "output_type": "stream",
     "text": [
      "+---+-------------------+----+--------------+---------------+-----+---------+-----+\n",
      "|_c0|              Names| Age|Total_Purchase|Account_Manager|Years|Num_Sites|Churn|\n",
      "+---+-------------------+----+--------------+---------------+-----+---------+-----+\n",
      "|  0|   Cameron Williams|42.0|       11066.8|              0| 7.22|      8.0|    1|\n",
      "|  1|      Kevin Mueller|41.0|      11916.22|              0|  6.5|     11.0|    1|\n",
      "|  2|        Eric Lozano|38.0|      12884.75|              0| 6.67|     12.0|    1|\n",
      "|  3|      Phillip White|42.0|       8010.76|              0| 6.71|     10.0|    1|\n",
      "|  4|     Cynthia Norton|37.0|       9191.58|              0| 5.56|      9.0|    1|\n",
      "|  5|   Jessica Williams|48.0|      10356.02|              0| 5.12|      8.0|    1|\n",
      "|  6|        Eric Butler|44.0|      11331.58|              1| 5.23|     11.0|    1|\n",
      "|  7|      Zachary Walsh|32.0|       9885.12|              1| 6.92|      9.0|    1|\n",
      "|  8|        Ashlee Carr|43.0|       14062.6|              1| 5.46|     11.0|    1|\n",
      "|  9|     Jennifer Lynch|40.0|       8066.94|              1| 7.11|     11.0|    1|\n",
      "| 10|       Paula Harris|30.0|      11575.37|              1| 5.22|      8.0|    1|\n",
      "| 11|     Bruce Phillips|45.0|       8771.02|              1| 6.64|     11.0|    1|\n",
      "| 12|       Craig Garner|45.0|       8988.67|              1| 4.84|     11.0|    1|\n",
      "| 13|       Nicole Olson|40.0|       8283.32|              1|  5.1|     13.0|    1|\n",
      "| 14|     Harold Griffin|41.0|       6569.87|              1|  4.3|     11.0|    1|\n",
      "| 15|       James Wright|38.0|      10494.82|              1| 6.81|     12.0|    1|\n",
      "| 16|      Doris Wilkins|45.0|       8213.41|              1| 7.35|     11.0|    1|\n",
      "| 17|Katherine Carpenter|43.0|      11226.88|              0| 8.08|     12.0|    1|\n",
      "| 18|     Lindsay Martin|53.0|       5515.09|              0| 6.85|      8.0|    1|\n",
      "| 19|        Kathy Curry|46.0|        8046.4|              1| 5.69|      8.0|    1|\n",
      "+---+-------------------+----+--------------+---------------+-----+---------+-----+\n",
      "only showing top 20 rows\n",
      "\n"
     ]
    }
   ],
   "source": [
    "data.show()"
   ]
  },
  {
   "cell_type": "code",
   "execution_count": 6,
   "metadata": {
    "colab": {
     "base_uri": "https://localhost:8080/"
    },
    "id": "ymsY8KZOUWHi",
    "outputId": "948eb28b-aee7-45e2-a992-492fda4e77d2"
   },
   "outputs": [
    {
     "name": "stdout",
     "output_type": "stream",
     "text": [
      "root\n",
      " |-- _c0: integer (nullable = true)\n",
      " |-- Names: string (nullable = true)\n",
      " |-- Age: double (nullable = true)\n",
      " |-- Total_Purchase: double (nullable = true)\n",
      " |-- Account_Manager: integer (nullable = true)\n",
      " |-- Years: double (nullable = true)\n",
      " |-- Num_Sites: double (nullable = true)\n",
      " |-- Churn: integer (nullable = true)\n",
      "\n"
     ]
    }
   ],
   "source": [
    "data.printSchema()"
   ]
  },
  {
   "cell_type": "code",
   "execution_count": 7,
   "metadata": {
    "colab": {
     "base_uri": "https://localhost:8080/"
    },
    "id": "dPik3uDlfX1E",
    "outputId": "b1652932-5044-4c83-b4da-578a7966c10d"
   },
   "outputs": [
    {
     "name": "stdout",
     "output_type": "stream",
     "text": [
      "+---+-----+---+--------------+---------------+-----+---------+-----+\n",
      "|_c0|Names|Age|Total_Purchase|Account_Manager|Years|Num_Sites|Churn|\n",
      "+---+-----+---+--------------+---------------+-----+---------+-----+\n",
      "|  0|    0|  0|             0|              0|    0|        0|    0|\n",
      "+---+-----+---+--------------+---------------+-----+---------+-----+\n",
      "\n"
     ]
    }
   ],
   "source": [
    "from pyspark.sql.functions import sum as spark_sum\n",
    "\n",
    "# Check for null values in each column\n",
    "null_counts = data.select([spark_sum(data[col].isNull().cast(\"int\")).alias(col) for col in data.columns])\n",
    "\n",
    "# Display the counts of null values in each column\n",
    "null_counts.show()"
   ]
  },
  {
   "cell_type": "code",
   "execution_count": 8,
   "metadata": {
    "id": "UP0V770jU15F"
   },
   "outputs": [],
   "source": [
    "#Split data into traning an test\n",
    "train_data,test_data=data.randomSplit([0.8,0.2],seed=123)"
   ]
  },
  {
   "cell_type": "code",
   "execution_count": 9,
   "metadata": {
    "id": "leCo044gU_vP"
   },
   "outputs": [],
   "source": [
    "#define the feature name\n",
    "feature_cols=[\"Age\",\"Total_Purchase\",\"Account_Manager\",\"Years\",\"Num_Sites\"]\n",
    "label_col=\"Churn\"\n",
    "\n"
   ]
  },
  {
   "cell_type": "markdown",
   "metadata": {
    "id": "yq_HJwT1aj1j"
   },
   "source": [
    "### LogisticRegression"
   ]
  },
  {
   "cell_type": "code",
   "execution_count": 10,
   "metadata": {
    "id": "-seVAnF2VTX_"
   },
   "outputs": [],
   "source": [
    "#Assemble the feature vector\n",
    "assembler=VectorAssembler(inputCols=feature_cols,outputCol=\"features\")\n",
    "train_data=assembler.transform(train_data.select(*feature_cols,label_col))\n",
    "test_data=assembler.transform(test_data.select(*feature_cols,label_col))"
   ]
  },
  {
   "cell_type": "code",
   "execution_count": 11,
   "metadata": {
    "id": "ZfmnLv7UVTT2"
   },
   "outputs": [],
   "source": [
    "#create and train logistic Regression\n",
    "lr=LogisticRegression(labelCol=label_col,featuresCol=\"features\")\n",
    "model=lr.fit(train_data)"
   ]
  },
  {
   "cell_type": "code",
   "execution_count": 12,
   "metadata": {
    "id": "ebaqUwJQVTPJ"
   },
   "outputs": [],
   "source": [
    "#make predictions\n",
    "predictions=model.transform(test_data)"
   ]
  },
  {
   "cell_type": "code",
   "execution_count": 13,
   "metadata": {
    "colab": {
     "base_uri": "https://localhost:8080/"
    },
    "id": "Mb0aCs03VTIp",
    "outputId": "2f791831-e9cb-418f-adfa-b772b4fdf66e"
   },
   "outputs": [
    {
     "name": "stdout",
     "output_type": "stream",
     "text": [
      "Accuracy 0.9110597140454166\n"
     ]
    }
   ],
   "source": [
    "#evaluate the model\n",
    "evaluater=BinaryClassificationEvaluator(rawPredictionCol=\"rawPrediction\",labelCol=label_col)\n",
    "accuracy=evaluater.evaluate(predictions)\n",
    "print(\"Accuracy\", accuracy)"
   ]
  },
  {
   "cell_type": "markdown",
   "metadata": {
    "id": "xUZn20CoaZfb"
   },
   "source": [
    "### GBTClassifier\n"
   ]
  },
  {
   "cell_type": "code",
   "execution_count": 14,
   "metadata": {
    "id": "F0C9zwHeb1Iv"
   },
   "outputs": [],
   "source": [
    "feature_cols=[\"Age\",\"Total_Purchase\",\"Account_Manager\",\"Years\",\"Num_Sites\"]\n",
    "label_col=\"Churn\""
   ]
  },
  {
   "cell_type": "code",
   "execution_count": 15,
   "metadata": {
    "id": "4OM_YGHdVTAE"
   },
   "outputs": [],
   "source": [
    "assembler=VectorAssembler(inputCols=feature_cols,outputCol=\"features\")\n",
    "data=assembler.transform(data.select(*feature_cols,label_col))"
   ]
  },
  {
   "cell_type": "code",
   "execution_count": 16,
   "metadata": {
    "colab": {
     "base_uri": "https://localhost:8080/"
    },
    "id": "I7iaNu6gtr7r",
    "outputId": "8f9de241-7ead-4881-c540-fa4276aee8a7"
   },
   "outputs": [
    {
     "name": "stdout",
     "output_type": "stream",
     "text": [
      "+----+--------------+---------------+-----+---------+-----+--------------------+\n",
      "| Age|Total_Purchase|Account_Manager|Years|Num_Sites|Churn|            features|\n",
      "+----+--------------+---------------+-----+---------+-----+--------------------+\n",
      "|42.0|       11066.8|              0| 7.22|      8.0|    1|[42.0,11066.8,0.0...|\n",
      "|41.0|      11916.22|              0|  6.5|     11.0|    1|[41.0,11916.22,0....|\n",
      "|38.0|      12884.75|              0| 6.67|     12.0|    1|[38.0,12884.75,0....|\n",
      "|42.0|       8010.76|              0| 6.71|     10.0|    1|[42.0,8010.76,0.0...|\n",
      "|37.0|       9191.58|              0| 5.56|      9.0|    1|[37.0,9191.58,0.0...|\n",
      "|48.0|      10356.02|              0| 5.12|      8.0|    1|[48.0,10356.02,0....|\n",
      "|44.0|      11331.58|              1| 5.23|     11.0|    1|[44.0,11331.58,1....|\n",
      "|32.0|       9885.12|              1| 6.92|      9.0|    1|[32.0,9885.12,1.0...|\n",
      "|43.0|       14062.6|              1| 5.46|     11.0|    1|[43.0,14062.6,1.0...|\n",
      "|40.0|       8066.94|              1| 7.11|     11.0|    1|[40.0,8066.94,1.0...|\n",
      "|30.0|      11575.37|              1| 5.22|      8.0|    1|[30.0,11575.37,1....|\n",
      "|45.0|       8771.02|              1| 6.64|     11.0|    1|[45.0,8771.02,1.0...|\n",
      "|45.0|       8988.67|              1| 4.84|     11.0|    1|[45.0,8988.67,1.0...|\n",
      "|40.0|       8283.32|              1|  5.1|     13.0|    1|[40.0,8283.32,1.0...|\n",
      "|41.0|       6569.87|              1|  4.3|     11.0|    1|[41.0,6569.87,1.0...|\n",
      "|38.0|      10494.82|              1| 6.81|     12.0|    1|[38.0,10494.82,1....|\n",
      "|45.0|       8213.41|              1| 7.35|     11.0|    1|[45.0,8213.41,1.0...|\n",
      "|43.0|      11226.88|              0| 8.08|     12.0|    1|[43.0,11226.88,0....|\n",
      "|53.0|       5515.09|              0| 6.85|      8.0|    1|[53.0,5515.09,0.0...|\n",
      "|46.0|        8046.4|              1| 5.69|      8.0|    1|[46.0,8046.4,1.0,...|\n",
      "+----+--------------+---------------+-----+---------+-----+--------------------+\n",
      "only showing top 20 rows\n",
      "\n"
     ]
    }
   ],
   "source": [
    "data.show()"
   ]
  },
  {
   "cell_type": "code",
   "execution_count": 17,
   "metadata": {
    "id": "lL3atBBrbY3q"
   },
   "outputs": [],
   "source": [
    "# Split the data into training and testing sets\n",
    "train_data, test_data = data.randomSplit([0.7, 0.3], seed=42)"
   ]
  },
  {
   "cell_type": "code",
   "execution_count": 18,
   "metadata": {
    "id": "i1GxogWTbuh0"
   },
   "outputs": [],
   "source": [
    "# Initialize and train GBTClassifier model\n",
    "gbt=GBTClassifier(labelCol=label_col,featuresCol=\"features\")\n",
    "model=gbt.fit(train_data)"
   ]
  },
  {
   "cell_type": "code",
   "execution_count": 19,
   "metadata": {
    "id": "Ju71T8lxbub1"
   },
   "outputs": [],
   "source": [
    "# Make predictions\n",
    "predictions = model.transform(test_data)"
   ]
  },
  {
   "cell_type": "code",
   "execution_count": 20,
   "metadata": {
    "id": "dAv0MrmxbaTW"
   },
   "outputs": [],
   "source": [
    "#spark.stop()"
   ]
  },
  {
   "cell_type": "code",
   "execution_count": 21,
   "metadata": {
    "colab": {
     "base_uri": "https://localhost:8080/"
    },
    "id": "oMnaOoY2cCMl",
    "outputId": "844d54df-55df-43c4-fcce-9317d37c970f"
   },
   "outputs": [
    {
     "name": "stdout",
     "output_type": "stream",
     "text": [
      "Accuracy 0.8431148373983745\n"
     ]
    }
   ],
   "source": [
    "evaluater=BinaryClassificationEvaluator(rawPredictionCol=\"rawPrediction\",labelCol=label_col)\n",
    "accuracy=evaluater.evaluate(predictions)\n",
    "print(\"Accuracy\", accuracy)\n",
    "#spark.stop()"
   ]
  },
  {
   "cell_type": "code",
   "execution_count": 22,
   "metadata": {
    "colab": {
     "base_uri": "https://localhost:8080/"
    },
    "id": "FUX2662cgZHb",
    "outputId": "b7ab6ef9-8270-41d1-950e-637f761d3c26"
   },
   "outputs": [
    {
     "name": "stdout",
     "output_type": "stream",
     "text": [
      "+----+--------------+---------------+-----+---------+-----+--------------------+\n",
      "| Age|Total_Purchase|Account_Manager|Years|Num_Sites|Churn|            features|\n",
      "+----+--------------+---------------+-----+---------+-----+--------------------+\n",
      "|22.0|      11254.38|              1| 4.96|      8.0|    0|[22.0,11254.38,1....|\n",
      "|25.0|       9672.03|              0| 5.49|      8.0|    0|[25.0,9672.03,0.0...|\n",
      "|26.0|       8939.61|              0| 4.54|      7.0|    0|[26.0,8939.61,0.0...|\n",
      "|27.0|        8628.8|              1|  5.3|      7.0|    0|[27.0,8628.8,1.0,...|\n",
      "|28.0|       8670.98|              0| 3.99|      6.0|    0|[28.0,8670.98,0.0...|\n",
      "|28.0|      11128.95|              1| 5.12|      8.0|    0|[28.0,11128.95,1....|\n",
      "|29.0|       5900.78|              1| 5.56|      8.0|    0|[29.0,5900.78,1.0...|\n",
      "|29.0|       8688.17|              1|  5.7|      9.0|    1|[29.0,8688.17,1.0...|\n",
      "|29.0|       9378.24|              0| 4.93|      8.0|    0|[29.0,9378.24,0.0...|\n",
      "|29.0|      12711.15|              0| 5.74|      7.0|    0|[29.0,12711.15,0....|\n",
      "|29.0|      13240.01|              1| 4.58|      6.0|    0|[29.0,13240.01,1....|\n",
      "|29.0|      13255.05|              1| 4.89|      8.0|    0|[29.0,13255.05,1....|\n",
      "|30.0|       7960.64|              1| 2.72|     10.0|    1|[30.0,7960.64,1.0...|\n",
      "|30.0|       8677.28|              1| 7.31|      7.0|    0|[30.0,8677.28,1.0...|\n",
      "|30.0|      10744.14|              1| 7.16|      9.0|    1|[30.0,10744.14,1....|\n",
      "|30.0|      10960.52|              1| 5.96|      9.0|    0|[30.0,10960.52,1....|\n",
      "|30.0|      11575.37|              1| 5.22|      8.0|    1|[30.0,11575.37,1....|\n",
      "|31.0|       5387.75|              0| 6.83|      9.0|    0|[31.0,5387.75,0.0...|\n",
      "|31.0|       8688.21|              0| 3.58|      7.0|    0|[31.0,8688.21,0.0...|\n",
      "|31.0|      10058.87|              1| 6.54|      7.0|    0|[31.0,10058.87,1....|\n",
      "+----+--------------+---------------+-----+---------+-----+--------------------+\n",
      "only showing top 20 rows\n",
      "\n"
     ]
    }
   ],
   "source": [
    "train_data.show()"
   ]
  },
  {
   "cell_type": "code",
   "execution_count": 23,
   "metadata": {
    "colab": {
     "base_uri": "https://localhost:8080/"
    },
    "id": "8o1GlrrfuA-j",
    "outputId": "85201e7e-e366-489e-905c-25a066e912b1"
   },
   "outputs": [
    {
     "name": "stdout",
     "output_type": "stream",
     "text": [
      "+----+--------------+---------------+-----+---------+-----+--------------------+\n",
      "| Age|Total_Purchase|Account_Manager|Years|Num_Sites|Churn|            features|\n",
      "+----+--------------+---------------+-----+---------+-----+--------------------+\n",
      "|22.0|      11254.38|              1| 4.96|      8.0|    0|[22.0,11254.38,1....|\n",
      "|25.0|       9672.03|              0| 5.49|      8.0|    0|[25.0,9672.03,0.0...|\n",
      "|26.0|       8939.61|              0| 4.54|      7.0|    0|[26.0,8939.61,0.0...|\n",
      "|27.0|        8628.8|              1|  5.3|      7.0|    0|[27.0,8628.8,1.0,...|\n",
      "|28.0|       8670.98|              0| 3.99|      6.0|    0|[28.0,8670.98,0.0...|\n",
      "|28.0|      11128.95|              1| 5.12|      8.0|    0|[28.0,11128.95,1....|\n",
      "|29.0|       5900.78|              1| 5.56|      8.0|    0|[29.0,5900.78,1.0...|\n",
      "|29.0|       8688.17|              1|  5.7|      9.0|    1|[29.0,8688.17,1.0...|\n",
      "|29.0|       9378.24|              0| 4.93|      8.0|    0|[29.0,9378.24,0.0...|\n",
      "|29.0|      12711.15|              0| 5.74|      7.0|    0|[29.0,12711.15,0....|\n",
      "|29.0|      13240.01|              1| 4.58|      6.0|    0|[29.0,13240.01,1....|\n",
      "|29.0|      13255.05|              1| 4.89|      8.0|    0|[29.0,13255.05,1....|\n",
      "|30.0|       7960.64|              1| 2.72|     10.0|    1|[30.0,7960.64,1.0...|\n",
      "|30.0|       8677.28|              1| 7.31|      7.0|    0|[30.0,8677.28,1.0...|\n",
      "|30.0|      10744.14|              1| 7.16|      9.0|    1|[30.0,10744.14,1....|\n",
      "|30.0|      10960.52|              1| 5.96|      9.0|    0|[30.0,10960.52,1....|\n",
      "|30.0|      11575.37|              1| 5.22|      8.0|    1|[30.0,11575.37,1....|\n",
      "|31.0|       5387.75|              0| 6.83|      9.0|    0|[31.0,5387.75,0.0...|\n",
      "|31.0|       8688.21|              0| 3.58|      7.0|    0|[31.0,8688.21,0.0...|\n",
      "|31.0|      10058.87|              1| 6.54|      7.0|    0|[31.0,10058.87,1....|\n",
      "+----+--------------+---------------+-----+---------+-----+--------------------+\n",
      "only showing top 20 rows\n",
      "\n"
     ]
    }
   ],
   "source": [
    "train_data.show()"
   ]
  },
  {
   "cell_type": "code",
   "execution_count": 24,
   "metadata": {
    "id": "6gJKKNfhgY7M"
   },
   "outputs": [],
   "source": [
    "from pyspark.ml.tuning import ParamGridBuilder, CrossValidator\n",
    "from pyspark.ml.evaluation import BinaryClassificationEvaluator\n",
    "\n",
    "# Initialize a GBTClassifier model\n",
    "gbt=GBTClassifier(labelCol=label_col,featuresCol=\"features\")\n",
    "\n",
    "# Define a parameter grid to search through\n",
    "param_grid = (ParamGridBuilder()\n",
    "              .addGrid(gbt.maxDepth, [2, 10])\n",
    "              .addGrid(gbt.maxIter, [3, 20])\n",
    "              .build())\n",
    "\n",
    "# Define an evaluator\n",
    "evaluator = BinaryClassificationEvaluator(rawPredictionCol=\"rawPrediction\", labelCol=label_col)\n",
    "\n",
    "# Initialize CrossValidator\n",
    "cv = CrossValidator(estimator=gbt,\n",
    "                    estimatorParamMaps=param_grid,\n",
    "                    evaluator=evaluator,\n",
    "                    numFolds=3)\n",
    "\n",
    "# Fit CrossValidator to the training data\n",
    "cv_model = cv.fit(train_data)\n",
    "\n",
    "\n",
    "# Get best GBTClassifier model from cross-validation\n",
    "best_model = cv_model.bestModel\n"
   ]
  },
  {
   "cell_type": "code",
   "execution_count": 25,
   "metadata": {
    "id": "lJKV-7sMwiI3"
   },
   "outputs": [],
   "source": [
    "predictions = best_model.transform(test_data)"
   ]
  },
  {
   "cell_type": "code",
   "execution_count": 26,
   "metadata": {
    "colab": {
     "base_uri": "https://localhost:8080/"
    },
    "id": "rAIjX1lqwmQO",
    "outputId": "6ffa764a-39c9-4301-cb6e-8e87e7e758d2"
   },
   "outputs": [
    {
     "name": "stdout",
     "output_type": "stream",
     "text": [
      "Accuracy 0.8850990853658538\n"
     ]
    }
   ],
   "source": [
    "evaluater=BinaryClassificationEvaluator(rawPredictionCol=\"rawPrediction\",labelCol=label_col)\n",
    "accuracy=evaluater.evaluate(predictions)\n",
    "print(\"Accuracy\", accuracy)"
   ]
  },
  {
   "cell_type": "code",
   "execution_count": 27,
   "metadata": {
    "id": "kb0NEmpQyMtb"
   },
   "outputs": [],
   "source": [
    "spark.stop()"
   ]
  },
  {
   "cell_type": "markdown",
   "metadata": {
    "id": "svJFosg2yXOp"
   },
   "source": [
    "## Conclusion"
   ]
  },
  {
   "cell_type": "raw",
   "metadata": {
    "id": "ONzezDjRQdz1"
   },
   "source": [
    "In this projet data is read by Spark and  logistic regression and Gbt Classifier are utilized for predicting customer churn. Ultimately, optimal parameters are determined for the GBT classifier, leading to an improvement in accuracy."
   ]
  },
  {
   "cell_type": "code",
   "execution_count": null,
   "metadata": {
    "id": "iymCZrjqR_A9"
   },
   "outputs": [],
   "source": []
  }
 ],
 "metadata": {
  "colab": {
   "provenance": []
  },
  "kernelspec": {
   "display_name": "Python 3 (ipykernel)",
   "language": "python",
   "name": "python3"
  },
  "language_info": {
   "codemirror_mode": {
    "name": "ipython",
    "version": 3
   },
   "file_extension": ".py",
   "mimetype": "text/x-python",
   "name": "python",
   "nbconvert_exporter": "python",
   "pygments_lexer": "ipython3",
   "version": "3.11.5"
  }
 },
 "nbformat": 4,
 "nbformat_minor": 4
}
